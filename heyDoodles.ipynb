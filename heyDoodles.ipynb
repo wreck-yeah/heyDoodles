{
 "cells": [
  {
   "cell_type": "code",
   "execution_count": null,
   "id": "19eea150",
   "metadata": {},
   "outputs": [],
   "source": [
    "from selenium import webdriver\n",
    "import time\n",
    "from selenium.webdriver.common.by import By\n",
    "count = 0\n",
    "for i in range(1,5000):\n",
    "    driver = webdriver.Firefox(executable_path=r\"C:\\\\Users\\\\HP\\\\Desktop\\\\geckodriver.exe\")\n",
    "    driver.maximize_window()\n",
    "    driver.get(url)\n",
    "    #Connect = driver.find_element_by_xpath('//*[@id=\"connectButton\"]')\n",
    "    #Connect.click()\n",
    "    time.sleep(5)\n",
    "    VotingButton = driver.find_element(\"xpath\",'//div[@class=\"xItemContent\"]//li[contains(@class,\"xActionVote\")]//a')\n",
    "    VotingButton.click()\n",
    "    count +=1\n",
    "    driver.close()\n",
    "    print (count)"
   ]
  }
 ],
 "metadata": {
  "kernelspec": {
   "display_name": "Python 3 (ipykernel)",
   "language": "python",
   "name": "python3"
  },
  "language_info": {
   "codemirror_mode": {
    "name": "ipython",
    "version": 3
   },
   "file_extension": ".py",
   "mimetype": "text/x-python",
   "name": "python",
   "nbconvert_exporter": "python",
   "pygments_lexer": "ipython3",
   "version": "3.9.7"
  }
 },
 "nbformat": 4,
 "nbformat_minor": 5
}
